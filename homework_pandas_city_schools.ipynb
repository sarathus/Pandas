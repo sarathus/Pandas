{
 "cells": [
  {
   "cell_type": "markdown",
   "metadata": {},
   "source": [
    "# PyCity Schools Analysis\n",
    "\n",
    "* As a whole, schools with higher budgets, did not yield better test results. By contrast, schools with higher spending per student actually (\\$645-675) underperformed compared to schools with smaller budgets (<\\$585 per student).\n",
    "\n",
    "* As a whole, smaller and medium sized schools dramatically out-performed large sized schools on passing math performances (89-91% passing vs 67%).\n",
    "\n",
    "* As a whole, charter schools out-performed the public district schools across all metrics. However, more analysis will be required to glean if the effect is due to school practices or the fact that charter schools tend to serve smaller student populations per school. \n",
    "---"
   ]
  },
  {
   "cell_type": "markdown",
   "metadata": {},
   "source": [
    "### Note\n",
    "* Instructions have been included for each segment. You do not have to follow them exactly, but they are included to help you think through the steps."
   ]
  },
  {
   "cell_type": "code",
   "execution_count": 1,
   "metadata": {},
   "outputs": [
    {
     "data": {
      "text/html": [
       "<div>\n",
       "<style scoped>\n",
       "    .dataframe tbody tr th:only-of-type {\n",
       "        vertical-align: middle;\n",
       "    }\n",
       "\n",
       "    .dataframe tbody tr th {\n",
       "        vertical-align: top;\n",
       "    }\n",
       "\n",
       "    .dataframe thead th {\n",
       "        text-align: right;\n",
       "    }\n",
       "</style>\n",
       "<table border=\"1\" class=\"dataframe\">\n",
       "  <thead>\n",
       "    <tr style=\"text-align: right;\">\n",
       "      <th></th>\n",
       "      <th>Student ID</th>\n",
       "      <th>student_name</th>\n",
       "      <th>gender</th>\n",
       "      <th>grade</th>\n",
       "      <th>school_name</th>\n",
       "      <th>reading_score</th>\n",
       "      <th>math_score</th>\n",
       "      <th>School ID</th>\n",
       "      <th>type</th>\n",
       "      <th>size</th>\n",
       "      <th>budget</th>\n",
       "    </tr>\n",
       "  </thead>\n",
       "  <tbody>\n",
       "    <tr>\n",
       "      <th>0</th>\n",
       "      <td>0</td>\n",
       "      <td>Paul Bradley</td>\n",
       "      <td>M</td>\n",
       "      <td>9th</td>\n",
       "      <td>Huang High School</td>\n",
       "      <td>66</td>\n",
       "      <td>79</td>\n",
       "      <td>0</td>\n",
       "      <td>District</td>\n",
       "      <td>2917</td>\n",
       "      <td>1910635</td>\n",
       "    </tr>\n",
       "    <tr>\n",
       "      <th>1</th>\n",
       "      <td>1</td>\n",
       "      <td>Victor Smith</td>\n",
       "      <td>M</td>\n",
       "      <td>12th</td>\n",
       "      <td>Huang High School</td>\n",
       "      <td>94</td>\n",
       "      <td>61</td>\n",
       "      <td>0</td>\n",
       "      <td>District</td>\n",
       "      <td>2917</td>\n",
       "      <td>1910635</td>\n",
       "    </tr>\n",
       "    <tr>\n",
       "      <th>2</th>\n",
       "      <td>2</td>\n",
       "      <td>Kevin Rodriguez</td>\n",
       "      <td>M</td>\n",
       "      <td>12th</td>\n",
       "      <td>Huang High School</td>\n",
       "      <td>90</td>\n",
       "      <td>60</td>\n",
       "      <td>0</td>\n",
       "      <td>District</td>\n",
       "      <td>2917</td>\n",
       "      <td>1910635</td>\n",
       "    </tr>\n",
       "    <tr>\n",
       "      <th>3</th>\n",
       "      <td>3</td>\n",
       "      <td>Dr. Richard Scott</td>\n",
       "      <td>M</td>\n",
       "      <td>12th</td>\n",
       "      <td>Huang High School</td>\n",
       "      <td>67</td>\n",
       "      <td>58</td>\n",
       "      <td>0</td>\n",
       "      <td>District</td>\n",
       "      <td>2917</td>\n",
       "      <td>1910635</td>\n",
       "    </tr>\n",
       "    <tr>\n",
       "      <th>4</th>\n",
       "      <td>4</td>\n",
       "      <td>Bonnie Ray</td>\n",
       "      <td>F</td>\n",
       "      <td>9th</td>\n",
       "      <td>Huang High School</td>\n",
       "      <td>97</td>\n",
       "      <td>84</td>\n",
       "      <td>0</td>\n",
       "      <td>District</td>\n",
       "      <td>2917</td>\n",
       "      <td>1910635</td>\n",
       "    </tr>\n",
       "  </tbody>\n",
       "</table>\n",
       "</div>"
      ],
      "text/plain": [
       "   Student ID       student_name gender grade        school_name  \\\n",
       "0           0       Paul Bradley      M   9th  Huang High School   \n",
       "1           1       Victor Smith      M  12th  Huang High School   \n",
       "2           2    Kevin Rodriguez      M  12th  Huang High School   \n",
       "3           3  Dr. Richard Scott      M  12th  Huang High School   \n",
       "4           4         Bonnie Ray      F   9th  Huang High School   \n",
       "\n",
       "   reading_score  math_score  School ID      type  size   budget  \n",
       "0             66          79          0  District  2917  1910635  \n",
       "1             94          61          0  District  2917  1910635  \n",
       "2             90          60          0  District  2917  1910635  \n",
       "3             67          58          0  District  2917  1910635  \n",
       "4             97          84          0  District  2917  1910635  "
      ]
     },
     "execution_count": 1,
     "metadata": {},
     "output_type": "execute_result"
    }
   ],
   "source": [
    "# Dependencies and Setup\n",
    "import pandas as pd\n",
    "import numpy as np\n",
    "\n",
    "# Files to read\n",
    "school_data_to_load = \"schools_complete.csv\"\n",
    "student_data_to_load = \"students_complete.csv\"\n",
    "\n",
    "# Read School and Student Data File and store into Pandas Data Frames\n",
    "school_data = pd.read_csv(school_data_to_load)\n",
    "student_data = pd.read_csv(student_data_to_load)\n",
    "\n",
    "# Merge two data sets\n",
    "df_school_data_complete = pd.merge(student_data, school_data, how=\"left\", on=[\"school_name\", \"school_name\"])\n",
    "df_school_data_complete.head()"
   ]
  },
  {
   "cell_type": "markdown",
   "metadata": {},
   "source": [
    "## District Summary\n",
    "\n",
    "* Calculate the total number of schools\n",
    "\n",
    "* Calculate the total number of students\n",
    "\n",
    "* Calculate the total budget\n",
    "\n",
    "* Calculate the average math score \n",
    "\n",
    "* Calculate the average reading score\n",
    "\n",
    "* Calculate the overall passing rate (overall average score), i.e. (avg. math score + avg. reading score)/2\n",
    "\n",
    "* Calculate the percentage of students with a passing math score (70 or greater)\n",
    "\n",
    "* Calculate the percentage of students with a passing reading score (70 or greater)\n",
    "\n",
    "* Create a dataframe to hold the above results\n",
    "\n",
    "* Optional: give the displayed data cleaner formatting"
   ]
  },
  {
   "cell_type": "code",
   "execution_count": 2,
   "metadata": {},
   "outputs": [
    {
     "data": {
      "text/html": [
       "<style  type=\"text/css\" >\n",
       "</style><table id=\"T_b435b440_987a_11e9_bcdd_38f9d3590433\" ><thead>    <tr>        <th class=\"blank level0\" ></th>        <th class=\"col_heading level0 col0\" >Total Schools</th>        <th class=\"col_heading level0 col1\" >Total Students</th>        <th class=\"col_heading level0 col2\" >Total Budget</th>        <th class=\"col_heading level0 col3\" >Average Reading Score</th>        <th class=\"col_heading level0 col4\" >Average Math Score</th>        <th class=\"col_heading level0 col5\" >% Passing Reading</th>        <th class=\"col_heading level0 col6\" >% Passing Math</th>        <th class=\"col_heading level0 col7\" >Overall Passing Rate</th>    </tr></thead><tbody>\n",
       "                <tr>\n",
       "                        <th id=\"T_b435b440_987a_11e9_bcdd_38f9d3590433level0_row0\" class=\"row_heading level0 row0\" >0</th>\n",
       "                        <td id=\"T_b435b440_987a_11e9_bcdd_38f9d3590433row0_col0\" class=\"data row0 col0\" >15</td>\n",
       "                        <td id=\"T_b435b440_987a_11e9_bcdd_38f9d3590433row0_col1\" class=\"data row0 col1\" >39170</td>\n",
       "                        <td id=\"T_b435b440_987a_11e9_bcdd_38f9d3590433row0_col2\" class=\"data row0 col2\" >$82,932,329,558.00</td>\n",
       "                        <td id=\"T_b435b440_987a_11e9_bcdd_38f9d3590433row0_col3\" class=\"data row0 col3\" >81.9</td>\n",
       "                        <td id=\"T_b435b440_987a_11e9_bcdd_38f9d3590433row0_col4\" class=\"data row0 col4\" >79.0</td>\n",
       "                        <td id=\"T_b435b440_987a_11e9_bcdd_38f9d3590433row0_col5\" class=\"data row0 col5\" >85.8%</td>\n",
       "                        <td id=\"T_b435b440_987a_11e9_bcdd_38f9d3590433row0_col6\" class=\"data row0 col6\" >75.0%</td>\n",
       "                        <td id=\"T_b435b440_987a_11e9_bcdd_38f9d3590433row0_col7\" class=\"data row0 col7\" >65.2%</td>\n",
       "            </tr>\n",
       "    </tbody></table>"
      ],
      "text/plain": [
       "<pandas.io.formats.style.Styler at 0x10e5c2080>"
      ]
     },
     "execution_count": 2,
     "metadata": {},
     "output_type": "execute_result"
    }
   ],
   "source": [
    "#create array of unique school names\n",
    "unique_school_names = df_school_data_complete['school_name'].unique()\n",
    "\n",
    "#gives the length of unique school names to give us how many schools\n",
    "school_count = len(unique_school_names)\n",
    "\n",
    "#district student count\n",
    "dist_student_count = df_school_data_complete['size'].count()\n",
    "\n",
    "#student count from student file (to verify with district student count)\n",
    "total_student_rec = df_school_data_complete['student_name'].count()\n",
    "\n",
    "#total budget\n",
    "#bud = df_school_data_complete.loc[df_school_data_complete[\"school_name\"].unique]\n",
    "#total_budget = bud[\"budget\"].sum()\n",
    "total_budget = df_school_data_complete['budget'].sum()\n",
    "\n",
    "#calculations for number and % passing reading\n",
    "num_passing_reading = df_school_data_complete.loc[df_school_data_complete['reading_score'] >= 70]['reading_score'].count()\n",
    "perc_pass_reading = num_passing_reading/total_student_rec\n",
    "\n",
    "#calculations for number and % passing math\n",
    "num_passing_math = df_school_data_complete.loc[df_school_data_complete['math_score'] >= 70]['math_score'].count()\n",
    "perc_pass_math = num_passing_math/total_student_rec\n",
    "\n",
    "#average math score calculation\n",
    "avg_math_score = df_school_data_complete['math_score'].mean()\n",
    "\n",
    "#average reading score calculation\n",
    "avg_reading_score = df_school_data_complete['reading_score'].mean()\n",
    "\n",
    "#Overall Passing Rate Calculations\n",
    "overall_pass = df_school_data_complete.loc[(df_school_data_complete['math_score'] >= 70) & (df_school_data_complete['reading_score'] >= 70)]['student_name'].count()/total_student_rec\n",
    "\n",
    "# district dataframe from dictionary\n",
    "\n",
    "district_summary = pd.DataFrame({\n",
    "    \n",
    "    \"Total Schools\": [school_count],\n",
    "    \"Total Students\": [dist_student_count],\n",
    "    \"Total Budget\": [total_budget],\n",
    "    \"Average Reading Score\": [avg_reading_score],\n",
    "    \"Average Math Score\": [avg_math_score],\n",
    "    \"% Passing Reading\":[perc_pass_reading],\n",
    "    \"% Passing Math\": [perc_pass_math],\n",
    "    \"Overall Passing Rate\": [overall_pass]\n",
    "\n",
    "})\n",
    "\n",
    "#store as different df to change order\n",
    "dist_sum = district_summary[[\"Total Schools\", \n",
    "                             \"Total Students\", \n",
    "                             \"Total Budget\", \n",
    "                             \"Average Reading Score\", \n",
    "                             \"Average Math Score\", \n",
    "                             '% Passing Reading', \n",
    "                             '% Passing Math', \n",
    "                             'Overall Passing Rate']]\n",
    "\n",
    "#format cells\n",
    "dist_sum.style.format({\"Total Budget\": \"${:,.2f}\", \n",
    "                       \"Average Reading Score\": \"{:.1f}\", \n",
    "                       \"Average Math Score\": \"{:.1f}\", \n",
    "                       \"% Passing Math\": \"{:.1%}\", \n",
    "                       \"% Passing Reading\": \"{:.1%}\", \n",
    "                       \"Overall Passing Rate\": \"{:.1%}\"})\n"
   ]
  },
  {
   "cell_type": "markdown",
   "metadata": {},
   "source": [
    "## School Summary"
   ]
  },
  {
   "cell_type": "markdown",
   "metadata": {},
   "source": [
    "* Create an overview table that summarizes key metrics about each school, including:\n",
    "  * School Name\n",
    "  * School Type\n",
    "  * Total Students\n",
    "  * Total School Budget\n",
    "  * Per Student Budget\n",
    "  * Average Math Score\n",
    "  * Average Reading Score\n",
    "  * % Passing Math\n",
    "  * % Passing Reading\n",
    "  * Overall Passing Rate (Average of the above two)\n",
    "  \n",
    "* Create a dataframe to hold the above results"
   ]
  },
  {
   "cell_type": "markdown",
   "metadata": {},
   "source": [
    "## Top Performing Schools (By Passing Rate)"
   ]
  },
  {
   "cell_type": "markdown",
   "metadata": {},
   "source": [
    "* Sort and display the top five schools in overall passing rate"
   ]
  },
  {
   "cell_type": "code",
   "execution_count": 3,
   "metadata": {},
   "outputs": [
    {
     "data": {
      "text/html": [
       "<div>\n",
       "<style scoped>\n",
       "    .dataframe tbody tr th:only-of-type {\n",
       "        vertical-align: middle;\n",
       "    }\n",
       "\n",
       "    .dataframe tbody tr th {\n",
       "        vertical-align: top;\n",
       "    }\n",
       "\n",
       "    .dataframe thead th {\n",
       "        text-align: right;\n",
       "    }\n",
       "</style>\n",
       "<table border=\"1\" class=\"dataframe\">\n",
       "  <thead>\n",
       "    <tr style=\"text-align: right;\">\n",
       "      <th></th>\n",
       "      <th>School Type</th>\n",
       "      <th>Total Budget</th>\n",
       "      <th>Total Students</th>\n",
       "      <th>Budget Per Student</th>\n",
       "      <th>Average Math Score</th>\n",
       "      <th>Average Reading Score</th>\n",
       "      <th>Percent Passing Math</th>\n",
       "      <th>Percent Passing Reading</th>\n",
       "      <th>Overall Passing Rate</th>\n",
       "    </tr>\n",
       "    <tr>\n",
       "      <th>School Name</th>\n",
       "      <th></th>\n",
       "      <th></th>\n",
       "      <th></th>\n",
       "      <th></th>\n",
       "      <th></th>\n",
       "      <th></th>\n",
       "      <th></th>\n",
       "      <th></th>\n",
       "      <th></th>\n",
       "    </tr>\n",
       "  </thead>\n",
       "  <tbody>\n",
       "    <tr>\n",
       "      <th>Cabrera High School</th>\n",
       "      <td>Charter</td>\n",
       "      <td>$1,081,356</td>\n",
       "      <td>1858</td>\n",
       "      <td>582.0</td>\n",
       "      <td>83.06</td>\n",
       "      <td>83.98</td>\n",
       "      <td>94.13</td>\n",
       "      <td>97.04</td>\n",
       "      <td>95.58</td>\n",
       "    </tr>\n",
       "    <tr>\n",
       "      <th>Thomas High School</th>\n",
       "      <td>Charter</td>\n",
       "      <td>$1,043,130</td>\n",
       "      <td>1635</td>\n",
       "      <td>638.0</td>\n",
       "      <td>83.42</td>\n",
       "      <td>83.85</td>\n",
       "      <td>93.27</td>\n",
       "      <td>97.31</td>\n",
       "      <td>95.29</td>\n",
       "    </tr>\n",
       "    <tr>\n",
       "      <th>Pena High School</th>\n",
       "      <td>Charter</td>\n",
       "      <td>$585,858</td>\n",
       "      <td>962</td>\n",
       "      <td>609.0</td>\n",
       "      <td>83.84</td>\n",
       "      <td>84.04</td>\n",
       "      <td>94.59</td>\n",
       "      <td>95.95</td>\n",
       "      <td>95.27</td>\n",
       "    </tr>\n",
       "    <tr>\n",
       "      <th>Griffin High School</th>\n",
       "      <td>Charter</td>\n",
       "      <td>$917,500</td>\n",
       "      <td>1468</td>\n",
       "      <td>625.0</td>\n",
       "      <td>83.35</td>\n",
       "      <td>83.82</td>\n",
       "      <td>93.39</td>\n",
       "      <td>97.14</td>\n",
       "      <td>95.26</td>\n",
       "    </tr>\n",
       "    <tr>\n",
       "      <th>Wilson High School</th>\n",
       "      <td>Charter</td>\n",
       "      <td>$1,319,574</td>\n",
       "      <td>2283</td>\n",
       "      <td>578.0</td>\n",
       "      <td>83.27</td>\n",
       "      <td>83.99</td>\n",
       "      <td>93.87</td>\n",
       "      <td>96.54</td>\n",
       "      <td>95.21</td>\n",
       "    </tr>\n",
       "  </tbody>\n",
       "</table>\n",
       "</div>"
      ],
      "text/plain": [
       "                    School Type Total Budget  Total Students  \\\n",
       "School Name                                                    \n",
       "Cabrera High School     Charter   $1,081,356            1858   \n",
       "Thomas High School      Charter   $1,043,130            1635   \n",
       "Pena High School        Charter     $585,858             962   \n",
       "Griffin High School     Charter     $917,500            1468   \n",
       "Wilson High School      Charter   $1,319,574            2283   \n",
       "\n",
       "                     Budget Per Student  Average Math Score  \\\n",
       "School Name                                                   \n",
       "Cabrera High School               582.0               83.06   \n",
       "Thomas High School                638.0               83.42   \n",
       "Pena High School                  609.0               83.84   \n",
       "Griffin High School               625.0               83.35   \n",
       "Wilson High School                578.0               83.27   \n",
       "\n",
       "                     Average Reading Score  Percent Passing Math  \\\n",
       "School Name                                                        \n",
       "Cabrera High School                  83.98                 94.13   \n",
       "Thomas High School                   83.85                 93.27   \n",
       "Pena High School                     84.04                 94.59   \n",
       "Griffin High School                  83.82                 93.39   \n",
       "Wilson High School                   83.99                 93.87   \n",
       "\n",
       "                     Percent Passing Reading  Overall Passing Rate  \n",
       "School Name                                                         \n",
       "Cabrera High School                    97.04                 95.58  \n",
       "Thomas High School                     97.31                 95.29  \n",
       "Pena High School                       95.95                 95.27  \n",
       "Griffin High School                    97.14                 95.26  \n",
       "Wilson High School                     96.54                 95.21  "
      ]
     },
     "execution_count": 3,
     "metadata": {},
     "output_type": "execute_result"
    }
   ],
   "source": [
    "grouped_schools = df_school_data_complete.groupby(\"school_name\")\n",
    "\n",
    "# add data that's easier to get from school_data\n",
    "school_summary = pd.DataFrame({\"School Name\":school_data[\"school_name\"], \"School Type\":school_data[\"type\"],\n",
    "                             \"Total Budget\":school_data[\"budget\"]})\n",
    "school_summary = school_summary.set_index(\"School Name\")\n",
    "school_summary = school_summary.sort_values(\"School Name\")\n",
    "\n",
    "# do calculations on data from groupby object\n",
    "school_summary[\"Total Students\"] = grouped_schools[\"Student ID\"].count()\n",
    "school_summary[\"Budget Per Student\"] = school_summary[\"Total Budget\"] / school_summary[\"Total Students\"]\n",
    "school_summary[\"Average Math Score\"] = round(grouped_schools[\"math_score\"].mean(), 2)\n",
    "school_summary[\"Average Reading Score\"] = round(grouped_schools[\"reading_score\"].mean(), 2)\n",
    "\n",
    "# calculate percentages of students passing using apply\n",
    "school_summary[\"Percent Passing Math\"] = round((grouped_schools.apply(lambda x: (x[\"math_score\"] >= 70).sum()) / \n",
    "                                          school_summary[\"Total Students\"]) * 100, 2)\n",
    "school_summary[\"Percent Passing Reading\"] = round((grouped_schools.apply(lambda x: (x[\"reading_score\"] >= 70).sum()) / \n",
    "                                          school_summary[\"Total Students\"]) * 100, 2)\n",
    "school_summary[\"Overall Passing Rate\"] = round((school_summary[\"Percent Passing Math\"] + \n",
    "                                               school_summary[\"Percent Passing Reading\"]) / 2, 2)\n",
    "\n",
    "school_summary = school_summary.sort_values(\"Overall Passing Rate\", ascending=False)\n",
    "\n",
    "# add formatting\n",
    "school_summary[\"Total Budget\"] = school_summary[\"Total Budget\"].map('${:,}'.format)\n",
    "\n",
    "\n",
    "school_summary.head()"
   ]
  },
  {
   "cell_type": "markdown",
   "metadata": {},
   "source": [
    "## Bottom Performing Schools (By Passing Rate)"
   ]
  },
  {
   "cell_type": "markdown",
   "metadata": {},
   "source": [
    "* Sort and display the five worst-performing schools"
   ]
  },
  {
   "cell_type": "code",
   "execution_count": null,
   "metadata": {},
   "outputs": [],
   "source": [
    "school_summary = school_summary.sort_values(\"Overall Passing Rate\", ascending=True)\n",
    "\n",
    "school_summary.head()"
   ]
  },
  {
   "cell_type": "markdown",
   "metadata": {
    "collapsed": true
   },
   "source": [
    "## Math Scores by Grade"
   ]
  },
  {
   "cell_type": "markdown",
   "metadata": {},
   "source": [
    "* Create a table that lists the average Reading Score for students of each grade level (9th, 10th, 11th, 12th) at each school.\n",
    "\n",
    "  * Create a pandas series for each grade. Hint: use a conditional statement.\n",
    "  \n",
    "  * Group each series by school\n",
    "  \n",
    "  * Combine the series into a dataframe\n",
    "  \n",
    "  * Optional: give the displayed data cleaner formatting"
   ]
  },
  {
   "cell_type": "code",
   "execution_count": null,
   "metadata": {},
   "outputs": [],
   "source": [
    "ninth = df_school_data_complete.loc[df_school_data_complete[\"grade\"] == \"9th\"]\n",
    "tenth = df_school_data_complete.loc[df_school_data_complete[\"grade\"] == \"10th\"]\n",
    "eleventh = df_school_data_complete.loc[df_school_data_complete[\"grade\"] == \"11th\"]\n",
    "twelfth = df_school_data_complete.loc[df_school_data_complete[\"grade\"] == \"12th\"]\n",
    "\n",
    "math_ninth = ninth.groupby(\"school_name\")[\"math_score\"].mean()\n",
    "math_tenth = tenth.groupby(\"school_name\")[\"math_score\"].mean()\n",
    "math_eleventh = eleventh.groupby(\"school_name\")[\"math_score\"].mean()\n",
    "math_twelfth = twelfth.groupby(\"school_name\")[\"math_score\"].mean()\n",
    "\n",
    "math_grades = pd.DataFrame({\"9th\":math_ninth, \"10th\":math_tenth, \n",
    "                             \"11th\":math_eleventh, \"12th\":math_twelfth})\n",
    "\n",
    "math_grades = round(math_grades, 4)\n",
    "\n",
    "math_grades"
   ]
  },
  {
   "cell_type": "markdown",
   "metadata": {},
   "source": [
    "## Reading Score by Grade "
   ]
  },
  {
   "cell_type": "markdown",
   "metadata": {},
   "source": [
    "* Perform the same operations as above for reading scores"
   ]
  },
  {
   "cell_type": "code",
   "execution_count": null,
   "metadata": {},
   "outputs": [],
   "source": [
    "reading_ninth = ninth.groupby(\"school_name\")[\"reading_score\"].mean()\n",
    "reading_tenth = tenth.groupby(\"school_name\")[\"reading_score\"].mean()\n",
    "reading_eleventh = eleventh.groupby(\"school_name\")[\"reading_score\"].mean()\n",
    "reading_twelfth = twelfth.groupby(\"school_name\")[\"reading_score\"].mean()\n",
    "\n",
    "reading_grades = pd.DataFrame({\"9th\":reading_ninth, \"10th\":reading_tenth, \n",
    "                             \"11th\":reading_eleventh, \"12th\":reading_twelfth})\n",
    "\n",
    "reading_grades = round(reading_grades, 4)\n",
    "\n",
    "reading_grades"
   ]
  },
  {
   "cell_type": "markdown",
   "metadata": {},
   "source": [
    "## Scores by School Spending"
   ]
  },
  {
   "cell_type": "markdown",
   "metadata": {},
   "source": [
    "* Create a table that breaks down school performances based on average Spending Ranges (Per Student). Use 4 reasonable bins to group school spending. Include in the table each of the following:\n",
    "  * Average Math Score\n",
    "  * Average Reading Score\n",
    "  * % Passing Math\n",
    "  * % Passing Reading\n",
    "  * Overall Passing Rate (Average of the above two)"
   ]
  },
  {
   "cell_type": "code",
   "execution_count": null,
   "metadata": {},
   "outputs": [],
   "source": [
    "# Sample bins. Feel free to create your own bins.\n",
    "spending_bins = [0, 585, 615, 645, 675]\n",
    "group_names = [\"<$585\", \"$585-615\", \"$615-645\", \"$645-675\"]"
   ]
  },
  {
   "cell_type": "code",
   "execution_count": null,
   "metadata": {},
   "outputs": [],
   "source": [
    "school_summary[\"Spending Ranges\"] = pd.cut(school_summary[\"Budget Per Student\"], spending_bins, labels=group_names)\n",
    "\n",
    "spending_groups = school_summary.loc[:, [\"Spending Ranges\",\"Average Math Score\", \"Average Reading Score\",\n",
    "                                     \"Percent Passing Math\", \"Percent Passing Reading\",\n",
    "                                     \"Overall Passing Rate\"]].groupby(\"Spending Ranges\")\n",
    "spending_groups.mean()"
   ]
  },
  {
   "cell_type": "markdown",
   "metadata": {},
   "source": [
    "## Scores by School Size"
   ]
  },
  {
   "cell_type": "markdown",
   "metadata": {},
   "source": [
    "* Perform the same operations as above, based on school size."
   ]
  },
  {
   "cell_type": "code",
   "execution_count": null,
   "metadata": {},
   "outputs": [],
   "source": [
    "# Sample bins. Feel free to create your own bins.\n",
    "size_bins = [0, 1000, 2000, 5000]\n",
    "group_names = [\"Small (<1000)\", \"Medium (1000-2000)\", \"Large (2000-5000)\"]"
   ]
  },
  {
   "cell_type": "code",
   "execution_count": null,
   "metadata": {
    "scrolled": true
   },
   "outputs": [],
   "source": [
    "school_summary[\"Size Ranges\"] = pd.cut(school_summary[\"Total Students\"], size_bins, labels=group_names)\n",
    "\n",
    "size_groups = school_summary.loc[:, [\"Size Ranges\",\"Average Math Score\", \"Average Reading Score\",\n",
    "                                     \"Percent Passing Math\", \"Percent Passing Reading\",\n",
    "                                     \"Overall Passing Rate\"]].groupby(\"Size Ranges\")\n",
    "\n",
    "size_groups.mean()"
   ]
  },
  {
   "cell_type": "markdown",
   "metadata": {},
   "source": [
    "## Scores by School Type"
   ]
  },
  {
   "cell_type": "markdown",
   "metadata": {},
   "source": [
    "* Perform the same operations as above, based on school type."
   ]
  },
  {
   "cell_type": "code",
   "execution_count": null,
   "metadata": {},
   "outputs": [],
   "source": [
    "district_groups = school_summary.loc[:, [\"School Type\", \"Average Math Score\", \"Average Reading Score\",\n",
    "                                     \"Percent Passing Math\", \"Percent Passing Reading\",\n",
    "                                     \"Overall Passing Rate\"]].groupby(\"School Type\")\n",
    "district_groups.mean()"
   ]
  },
  {
   "cell_type": "code",
   "execution_count": null,
   "metadata": {},
   "outputs": [],
   "source": []
  }
 ],
 "metadata": {
  "anaconda-cloud": {},
  "kernel_info": {
   "name": "python3"
  },
  "kernelspec": {
   "display_name": "Python 3",
   "language": "python",
   "name": "python3"
  },
  "language_info": {
   "codemirror_mode": {
    "name": "ipython",
    "version": 3
   },
   "file_extension": ".py",
   "mimetype": "text/x-python",
   "name": "python",
   "nbconvert_exporter": "python",
   "pygments_lexer": "ipython3",
   "version": "3.7.3"
  },
  "nteract": {
   "version": "0.8.4"
  }
 },
 "nbformat": 4,
 "nbformat_minor": 1
}
